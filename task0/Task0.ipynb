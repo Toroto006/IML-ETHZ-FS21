{
  "nbformat": 4,
  "nbformat_minor": 0,
  "metadata": {
    "colab": {
      "name": "Task0.ipynb",
      "provenance": [],
      "authorship_tag": "ABX9TyMFNaNISejm+G+p8ufimjyu"
    },
    "kernelspec": {
      "name": "python3",
      "display_name": "Python 3"
    }
  },
  "cells": [
    {
      "cell_type": "markdown",
      "metadata": {
        "id": "XwCJDlDblbfn"
      },
      "source": [
        "### Trying to solve Task 0 now!"
      ]
    },
    {
      "cell_type": "code",
      "metadata": {
        "colab": {
          "base_uri": "https://localhost:8080/",
          "height": 235
        },
        "id": "oehqk2wZPnlF",
        "outputId": "b091efcb-4de3-431e-8496-54e675332e8d"
      },
      "source": [
        "import pandas as pd\n",
        "\n",
        "trainUrl = 'https://raw.githubusercontent.com/Toroto006/iml2021/main/task0/train.csv?token=AH44KNSUKGPD3PLAX43FCPDAKC3TS'\n",
        "testUrl = 'https://raw.githubusercontent.com/Toroto006/iml2021/main/task0/test.csv?token=AH44KNVNHVVZIUTW6FHZC7DAKC4BG'\n",
        "\n",
        "trainPD = pd.read_csv(trainUrl, index_col=\"Id\")\n",
        "trainPD.head()"
      ],
      "execution_count": 77,
      "outputs": [
        {
          "output_type": "execute_result",
          "data": {
            "text/html": [
              "<div>\n",
              "<style scoped>\n",
              "    .dataframe tbody tr th:only-of-type {\n",
              "        vertical-align: middle;\n",
              "    }\n",
              "\n",
              "    .dataframe tbody tr th {\n",
              "        vertical-align: top;\n",
              "    }\n",
              "\n",
              "    .dataframe thead th {\n",
              "        text-align: right;\n",
              "    }\n",
              "</style>\n",
              "<table border=\"1\" class=\"dataframe\">\n",
              "  <thead>\n",
              "    <tr style=\"text-align: right;\">\n",
              "      <th></th>\n",
              "      <th>y</th>\n",
              "      <th>x1</th>\n",
              "      <th>x2</th>\n",
              "      <th>x3</th>\n",
              "      <th>x4</th>\n",
              "      <th>x5</th>\n",
              "      <th>x6</th>\n",
              "      <th>x7</th>\n",
              "      <th>x8</th>\n",
              "      <th>x9</th>\n",
              "      <th>x10</th>\n",
              "    </tr>\n",
              "    <tr>\n",
              "      <th>Id</th>\n",
              "      <th></th>\n",
              "      <th></th>\n",
              "      <th></th>\n",
              "      <th></th>\n",
              "      <th></th>\n",
              "      <th></th>\n",
              "      <th></th>\n",
              "      <th></th>\n",
              "      <th></th>\n",
              "      <th></th>\n",
              "      <th></th>\n",
              "    </tr>\n",
              "  </thead>\n",
              "  <tbody>\n",
              "    <tr>\n",
              "      <th>0</th>\n",
              "      <td>738.023171</td>\n",
              "      <td>1764.052346</td>\n",
              "      <td>400.157208</td>\n",
              "      <td>978.737984</td>\n",
              "      <td>2240.893199</td>\n",
              "      <td>1867.557990</td>\n",
              "      <td>-977.277880</td>\n",
              "      <td>950.088418</td>\n",
              "      <td>-151.357208</td>\n",
              "      <td>-103.218852</td>\n",
              "      <td>410.598502</td>\n",
              "    </tr>\n",
              "    <tr>\n",
              "      <th>1</th>\n",
              "      <td>400.646015</td>\n",
              "      <td>144.043571</td>\n",
              "      <td>1454.273507</td>\n",
              "      <td>761.037725</td>\n",
              "      <td>121.675016</td>\n",
              "      <td>443.863233</td>\n",
              "      <td>333.674327</td>\n",
              "      <td>1494.079073</td>\n",
              "      <td>-205.158264</td>\n",
              "      <td>313.067702</td>\n",
              "      <td>-854.095739</td>\n",
              "    </tr>\n",
              "    <tr>\n",
              "      <th>2</th>\n",
              "      <td>189.900156</td>\n",
              "      <td>-2552.989816</td>\n",
              "      <td>653.618595</td>\n",
              "      <td>864.436199</td>\n",
              "      <td>-742.165020</td>\n",
              "      <td>2269.754624</td>\n",
              "      <td>-1454.365675</td>\n",
              "      <td>45.758517</td>\n",
              "      <td>-187.183850</td>\n",
              "      <td>1532.779214</td>\n",
              "      <td>1469.358770</td>\n",
              "    </tr>\n",
              "    <tr>\n",
              "      <th>3</th>\n",
              "      <td>-78.399449</td>\n",
              "      <td>154.947426</td>\n",
              "      <td>378.162520</td>\n",
              "      <td>-887.785748</td>\n",
              "      <td>-1980.796468</td>\n",
              "      <td>-347.912149</td>\n",
              "      <td>156.348969</td>\n",
              "      <td>1230.290681</td>\n",
              "      <td>1202.379849</td>\n",
              "      <td>-387.326817</td>\n",
              "      <td>-302.302751</td>\n",
              "    </tr>\n",
              "    <tr>\n",
              "      <th>4</th>\n",
              "      <td>-547.373531</td>\n",
              "      <td>-1048.552965</td>\n",
              "      <td>-1420.017937</td>\n",
              "      <td>-1706.270191</td>\n",
              "      <td>1950.775395</td>\n",
              "      <td>-509.652182</td>\n",
              "      <td>-438.074302</td>\n",
              "      <td>-1252.795360</td>\n",
              "      <td>777.490356</td>\n",
              "      <td>-1613.897848</td>\n",
              "      <td>-212.740280</td>\n",
              "    </tr>\n",
              "  </tbody>\n",
              "</table>\n",
              "</div>"
            ],
            "text/plain": [
              "             y           x1           x2  ...           x8           x9          x10\n",
              "Id                                        ...                                       \n",
              "0   738.023171  1764.052346   400.157208  ...  -151.357208  -103.218852   410.598502\n",
              "1   400.646015   144.043571  1454.273507  ...  -205.158264   313.067702  -854.095739\n",
              "2   189.900156 -2552.989816   653.618595  ...  -187.183850  1532.779214  1469.358770\n",
              "3   -78.399449   154.947426   378.162520  ...  1202.379849  -387.326817  -302.302751\n",
              "4  -547.373531 -1048.552965 -1420.017937  ...   777.490356 -1613.897848  -212.740280\n",
              "\n",
              "[5 rows x 11 columns]"
            ]
          },
          "metadata": {
            "tags": []
          },
          "execution_count": 77
        }
      ]
    },
    {
      "cell_type": "code",
      "metadata": {
        "colab": {
          "base_uri": "https://localhost:8080/",
          "height": 235
        },
        "id": "IKnAPAXjQcqi",
        "outputId": "592775d9-9b97-4f66-8647-ca0de4bc66b3"
      },
      "source": [
        "testPD = pd.read_csv(testUrl, index_col=\"Id\")\n",
        "testPD.head()"
      ],
      "execution_count": 78,
      "outputs": [
        {
          "output_type": "execute_result",
          "data": {
            "text/html": [
              "<div>\n",
              "<style scoped>\n",
              "    .dataframe tbody tr th:only-of-type {\n",
              "        vertical-align: middle;\n",
              "    }\n",
              "\n",
              "    .dataframe tbody tr th {\n",
              "        vertical-align: top;\n",
              "    }\n",
              "\n",
              "    .dataframe thead th {\n",
              "        text-align: right;\n",
              "    }\n",
              "</style>\n",
              "<table border=\"1\" class=\"dataframe\">\n",
              "  <thead>\n",
              "    <tr style=\"text-align: right;\">\n",
              "      <th></th>\n",
              "      <th>x1</th>\n",
              "      <th>x2</th>\n",
              "      <th>x3</th>\n",
              "      <th>x4</th>\n",
              "      <th>x5</th>\n",
              "      <th>x6</th>\n",
              "      <th>x7</th>\n",
              "      <th>x8</th>\n",
              "      <th>x9</th>\n",
              "      <th>x10</th>\n",
              "    </tr>\n",
              "    <tr>\n",
              "      <th>Id</th>\n",
              "      <th></th>\n",
              "      <th></th>\n",
              "      <th></th>\n",
              "      <th></th>\n",
              "      <th></th>\n",
              "      <th></th>\n",
              "      <th></th>\n",
              "      <th></th>\n",
              "      <th></th>\n",
              "      <th></th>\n",
              "    </tr>\n",
              "  </thead>\n",
              "  <tbody>\n",
              "    <tr>\n",
              "      <th>10000</th>\n",
              "      <td>-483.797492</td>\n",
              "      <td>1288.057065</td>\n",
              "      <td>-129.878712</td>\n",
              "      <td>-198.078388</td>\n",
              "      <td>-334.487592</td>\n",
              "      <td>-391.443186</td>\n",
              "      <td>-612.406176</td>\n",
              "      <td>-676.523964</td>\n",
              "      <td>1327.229655</td>\n",
              "      <td>-448.695446</td>\n",
              "    </tr>\n",
              "    <tr>\n",
              "      <th>10001</th>\n",
              "      <td>-316.407305</td>\n",
              "      <td>30.830556</td>\n",
              "      <td>-313.356726</td>\n",
              "      <td>-173.259184</td>\n",
              "      <td>-327.368719</td>\n",
              "      <td>944.368248</td>\n",
              "      <td>1122.017380</td>\n",
              "      <td>112.338731</td>\n",
              "      <td>1372.340221</td>\n",
              "      <td>2062.561842</td>\n",
              "    </tr>\n",
              "    <tr>\n",
              "      <th>10002</th>\n",
              "      <td>-2448.558997</td>\n",
              "      <td>-561.988408</td>\n",
              "      <td>355.098820</td>\n",
              "      <td>634.378170</td>\n",
              "      <td>-392.450091</td>\n",
              "      <td>-813.156399</td>\n",
              "      <td>-232.873263</td>\n",
              "      <td>246.801210</td>\n",
              "      <td>-562.413197</td>\n",
              "      <td>-841.602015</td>\n",
              "    </tr>\n",
              "    <tr>\n",
              "      <th>10003</th>\n",
              "      <td>-942.120025</td>\n",
              "      <td>945.373015</td>\n",
              "      <td>140.910705</td>\n",
              "      <td>1753.565841</td>\n",
              "      <td>-347.223685</td>\n",
              "      <td>-1489.493408</td>\n",
              "      <td>-508.035412</td>\n",
              "      <td>1992.650031</td>\n",
              "      <td>555.461973</td>\n",
              "      <td>-1696.076948</td>\n",
              "    </tr>\n",
              "    <tr>\n",
              "      <th>10004</th>\n",
              "      <td>1752.366157</td>\n",
              "      <td>-597.550816</td>\n",
              "      <td>-466.491398</td>\n",
              "      <td>-1094.792276</td>\n",
              "      <td>-645.424882</td>\n",
              "      <td>-202.154830</td>\n",
              "      <td>205.073469</td>\n",
              "      <td>-270.385827</td>\n",
              "      <td>-310.299496</td>\n",
              "      <td>362.212675</td>\n",
              "    </tr>\n",
              "  </tbody>\n",
              "</table>\n",
              "</div>"
            ],
            "text/plain": [
              "                x1           x2  ...           x9          x10\n",
              "Id                               ...                          \n",
              "10000  -483.797492  1288.057065  ...  1327.229655  -448.695446\n",
              "10001  -316.407305    30.830556  ...  1372.340221  2062.561842\n",
              "10002 -2448.558997  -561.988408  ...  -562.413197  -841.602015\n",
              "10003  -942.120025   945.373015  ...   555.461973 -1696.076948\n",
              "10004  1752.366157  -597.550816  ...  -310.299496   362.212675\n",
              "\n",
              "[5 rows x 10 columns]"
            ]
          },
          "metadata": {
            "tags": []
          },
          "execution_count": 78
        }
      ]
    },
    {
      "cell_type": "markdown",
      "metadata": {
        "id": "JKzrWvF2RSiV"
      },
      "source": [
        "We now have the data as pd objects and can start working with them.\n",
        "\n",
        "As we only have to \"train\" for a average in this task0, let's do so directly:"
      ]
    },
    {
      "cell_type": "code",
      "metadata": {
        "id": "h6H8LsGQRRdJ"
      },
      "source": [
        "import numpy as np\n",
        "\n",
        "def calcAvg(xes):\n",
        "  return np.average(xes)"
      ],
      "execution_count": 79,
      "outputs": []
    },
    {
      "cell_type": "markdown",
      "metadata": {
        "id": "LtkRkrjrSacv"
      },
      "source": [
        "Test if it is actually the case, or if we have to do something else, i.e. really train."
      ]
    },
    {
      "cell_type": "code",
      "metadata": {
        "colab": {
          "base_uri": "https://localhost:8080/"
        },
        "id": "6ieXKh-qSXWg",
        "outputId": "377cabc4-5acc-4dc6-a70b-8af589270094"
      },
      "source": [
        "hadErr = False\n",
        "eps = 1e-12\n",
        "for index, row in trainPD.iterrows():\n",
        "  error = calcAvg(row['x1':'x10'])-row['y']\n",
        "  if error > eps:\n",
        "    hadError = True\n",
        "    print(f\"Something is not okay here: \\n%s\" % row)\n",
        "\n",
        "if not hadErr:\n",
        "  print(\"Nothing is farther off then %d\" % eps)"
      ],
      "execution_count": 80,
      "outputs": [
        {
          "output_type": "stream",
          "text": [
            "Nothing is farther off then 0\n"
          ],
          "name": "stdout"
        }
      ]
    },
    {
      "cell_type": "markdown",
      "metadata": {
        "id": "Ft3juERyWUXx"
      },
      "source": [
        "We see it looks good, let's calculate the answer data."
      ]
    },
    {
      "cell_type": "code",
      "metadata": {
        "colab": {
          "base_uri": "https://localhost:8080/"
        },
        "id": "RDGqw_1vWYm2",
        "outputId": "230b8707-dbe3-4113-9667-490383131b03"
      },
      "source": [
        "res = pd.DataFrame()\n",
        "for ind, row in testPD.iterrows():\n",
        "  avg = calcAvg(row['x1':'x10'])\n",
        "  #print(f\"avg is %s for %i\" % (avg, ind))\n",
        "  rowA = pd.DataFrame([[ind, avg]], columns=['Id', 'y'])\n",
        "  #print(rowA)\n",
        "  res = res.append(rowA)\n",
        "\n",
        "print(res.head())"
      ],
      "execution_count": 81,
      "outputs": [
        {
          "output_type": "stream",
          "text": [
            "      Id           y\n",
            "0  10000  -66.002423\n",
            "0  10001  451.406504\n",
            "0  10002 -461.676417\n",
            "0  10003   40.501209\n",
            "0  10004 -126.744722\n"
          ],
          "name": "stdout"
        }
      ]
    },
    {
      "cell_type": "code",
      "metadata": {
        "id": "vvyuMd0XbWu6"
      },
      "source": [
        "res.to_csv(\"testOut.csv\", index=False)"
      ],
      "execution_count": 82,
      "outputs": []
    }
  ]
}