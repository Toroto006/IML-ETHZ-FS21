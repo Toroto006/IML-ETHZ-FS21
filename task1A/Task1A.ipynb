{
  "nbformat": 4,
  "nbformat_minor": 0,
  "metadata": {
    "colab": {
      "name": "Task0.ipynb",
      "provenance": [],
      "toc_visible": true,
      "authorship_tag": "ABX9TyMh5xb19bbOsA9sYTsjrmIP"
    },
    "kernelspec": {
      "name": "python3",
      "display_name": "Python 3"
    }
  },
  "cells": [
    {
      "cell_type": "markdown",
      "metadata": {
        "id": "XwCJDlDblbfn"
      },
      "source": [
        "### Trying to solve Task 1A now!"
      ]
    },
    {
      "cell_type": "code",
      "metadata": {
        "id": "oehqk2wZPnlF"
      },
      "source": [
        "import pandas as pd\n",
        "import numpy as np\n",
        "\n",
        "splits = 10\n",
        "trainUrl = 'https://raw.githubusercontent.com/Toroto006/iml2021/main/task1A/train.csv?token=AH44KNS2D2RZ2TH7Z45HDQLAKDGKG'\n",
        "\n",
        "trainPD = pd.read_csv(trainUrl)\n",
        "#trainPD"
      ],
      "execution_count": 340,
      "outputs": []
    },
    {
      "cell_type": "markdown",
      "metadata": {
        "id": "JKzrWvF2RSiV"
      },
      "source": [
        "We now have the data as pd objects and can start working with it.\n",
        "\n",
        "Maybe doing the 10-fold split already makes sense:"
      ]
    },
    {
      "cell_type": "code",
      "metadata": {
        "id": "f-8YMnyYl5U5"
      },
      "source": [
        "# Just some static splitSize fold splits\n",
        "if trainPD.size % splits != 0:\n",
        "  print(f\"ERROR! Not a possible splits amount, because %i is over\" % (trainPD.size % splits))\n",
        "splitSize = int(trainPD.size / splits)\n",
        "\n",
        "def staticSplit():\n",
        "  isplit = []\n",
        "  for i in range(splitSize):\n",
        "    isplit.append(trainPD.loc[i*15:i*15+14])\n",
        "  return isplit\n",
        "\n",
        "def randShuffleSplit():\n",
        "  # First sample (i.e. deepcopy & shuffel the data)\n",
        "  randTrainPD = trainPD.sample(frac=1).reset_index(drop=True)\n",
        "  #then do the normal calculations again\n",
        "  isplit = []\n",
        "  for i in range(splitSize):\n",
        "    isplit.append(randTrainPD.loc[i*15:i*15+14])\n",
        "  return isplit\n",
        "\n",
        "#split = randShuffleSplit()\n",
        "split = staticSplit()\n",
        "#split[9]"
      ],
      "execution_count": 341,
      "outputs": []
    },
    {
      "cell_type": "markdown",
      "metadata": {
        "id": "auKHGAEOGNRi"
      },
      "source": [
        "As we need train data and test data for the cross validation, let's build that from our splits here:"
      ]
    },
    {
      "cell_type": "code",
      "metadata": {
        "id": "yxQ44wNqGaDr"
      },
      "source": [
        "# Position i contains the i'th train and i'th test data.\n",
        "train = {}\n",
        "test = split\n",
        "for i in range(0, splits):\n",
        "  for j in range(0, splits):\n",
        "    if i != j:\n",
        "      if len(train) == i:\n",
        "        train[i] = split[j]\n",
        "      else:\n",
        "        train[i] = train[i].append(split[j])\n",
        "\n",
        "#train[0]"
      ],
      "execution_count": 342,
      "outputs": []
    },
    {
      "cell_type": "code",
      "metadata": {
        "id": "idfuNV4KGim3"
      },
      "source": [
        "# are given to us\n",
        "lambdas = [0.1, 1, 10, 100, 200]"
      ],
      "execution_count": 343,
      "outputs": []
    },
    {
      "cell_type": "markdown",
      "metadata": {
        "id": "Lo2K11PyLWZq"
      },
      "source": [
        "This shoud return the Root Mean Squared Error"
      ]
    },
    {
      "cell_type": "code",
      "metadata": {
        "id": "lz4oDGIFF-Fc"
      },
      "source": [
        "def rmse(predictions, targets):\n",
        "  # Should diretly work on pd (hopefully)\n",
        "  return np.sqrt(np.mean((predictions-targets)**2))"
      ],
      "execution_count": 344,
      "outputs": []
    },
    {
      "cell_type": "markdown",
      "metadata": {
        "id": "5xzcI6swLeIL"
      },
      "source": [
        "This should be the training of the ridgeRegression.\n",
        "Hence it should return the trained matrix, afterwards used by the predictRR to \n",
        "predict y's."
      ]
    },
    {
      "cell_type": "code",
      "metadata": {
        "id": "SXp3OcM_LdDt"
      },
      "source": [
        "def ridgeRegression(train, alp):\n",
        "  #np.linalg.norm is the L2 norm for ||w||_2 use .square to square it afterwards\n",
        "  # to do ||w||_2^2 is just np.dot() ???\n",
        "\n",
        "  # lets first try with sklearn\n",
        "  from sklearn import linear_model\n",
        "  # alpha is our lambda\n",
        "  model = linear_model.Ridge(alpha=alp)\n",
        "  model.fit(train.loc[:,'x1':'x13'], train['y'])\n",
        "  return model\n",
        "#r = ridgeRegression(train[0], lambdas[0])"
      ],
      "execution_count": 345,
      "outputs": []
    },
    {
      "cell_type": "markdown",
      "metadata": {
        "id": "-rGGON0pL0ac"
      },
      "source": [
        "This is the predictRR, which gets a dataFrame of which it only uses x1 to x13 and it's given trained matrix to predict the y's."
      ]
    },
    {
      "cell_type": "code",
      "metadata": {
        "id": "RJn-ewu1Lz3g"
      },
      "source": [
        "def predictRR(trained, test:pd.DataFrame):\n",
        "  #use w_hat = trained we get to calculate\n",
        "  #test = test['x1':'x13']\n",
        "\n",
        "  # lets first try with sklearn\n",
        "  return trained.predict(test.loc[:,'x1':'x13'])\n",
        "\n",
        "#predictRR(r, test[0])"
      ],
      "execution_count": 346,
      "outputs": []
    },
    {
      "cell_type": "markdown",
      "metadata": {
        "id": "LCfpbZu0J1NM"
      },
      "source": [
        "Now let's do the evaluation for our test results."
      ]
    },
    {
      "cell_type": "code",
      "metadata": {
        "id": "zAL5UV1xJ4l_"
      },
      "source": [
        "avgRMSE = []\n",
        "for lam in lambdas:\n",
        "  lams = []\n",
        "  for i in range(0, splits):\n",
        "    # trained is w\n",
        "    trained = ridgeRegression(train[i], lam)\n",
        "    # tests contains the predicted y\n",
        "    tests = predictRR(trained, test[i])\n",
        "    lamRmse = rmse(tests, test[i]['y'])\n",
        "    lams.append(lamRmse)\n",
        "  avg = np.average(lams)\n",
        "  avgRMSE.append(avg)\n",
        "\n",
        "#print(avgRMSE)"
      ],
      "execution_count": 347,
      "outputs": []
    },
    {
      "cell_type": "markdown",
      "metadata": {
        "id": "w-KYsO4BlqeP"
      },
      "source": [
        "Output the data for submission."
      ]
    },
    {
      "cell_type": "code",
      "metadata": {
        "id": "vvyuMd0XbWu6",
        "colab": {
          "base_uri": "https://localhost:8080/",
          "height": 204
        },
        "outputId": "f6a38aeb-294c-4c65-8baa-d739761c87e3"
      },
      "source": [
        "res = pd.DataFrame(data=avgRMSE)\n",
        "res.to_csv(\"testOut.csv\", index=False, header=False)\n",
        "res"
      ],
      "execution_count": 348,
      "outputs": [
        {
          "output_type": "execute_result",
          "data": {
            "text/html": [
              "<div>\n",
              "<style scoped>\n",
              "    .dataframe tbody tr th:only-of-type {\n",
              "        vertical-align: middle;\n",
              "    }\n",
              "\n",
              "    .dataframe tbody tr th {\n",
              "        vertical-align: top;\n",
              "    }\n",
              "\n",
              "    .dataframe thead th {\n",
              "        text-align: right;\n",
              "    }\n",
              "</style>\n",
              "<table border=\"1\" class=\"dataframe\">\n",
              "  <thead>\n",
              "    <tr style=\"text-align: right;\">\n",
              "      <th></th>\n",
              "      <th>0</th>\n",
              "    </tr>\n",
              "  </thead>\n",
              "  <tbody>\n",
              "    <tr>\n",
              "      <th>0</th>\n",
              "      <td>5.501809</td>\n",
              "    </tr>\n",
              "    <tr>\n",
              "      <th>1</th>\n",
              "      <td>5.499839</td>\n",
              "    </tr>\n",
              "    <tr>\n",
              "      <th>2</th>\n",
              "      <td>5.483631</td>\n",
              "    </tr>\n",
              "    <tr>\n",
              "      <th>3</th>\n",
              "      <td>5.636642</td>\n",
              "    </tr>\n",
              "    <tr>\n",
              "      <th>4</th>\n",
              "      <td>5.721234</td>\n",
              "    </tr>\n",
              "  </tbody>\n",
              "</table>\n",
              "</div>"
            ],
            "text/plain": [
              "          0\n",
              "0  5.501809\n",
              "1  5.499839\n",
              "2  5.483631\n",
              "3  5.636642\n",
              "4  5.721234"
            ]
          },
          "metadata": {
            "tags": []
          },
          "execution_count": 348
        }
      ]
    }
  ]
}