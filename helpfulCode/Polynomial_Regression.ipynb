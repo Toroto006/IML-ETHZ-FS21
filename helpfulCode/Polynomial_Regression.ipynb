{
 "cells": [
  {
   "cell_type": "code",
   "execution_count": null,
   "metadata": {},
   "outputs": [],
   "source": [
    "%matplotlib inline\n",
    "%reload_ext autoreload\n",
    "%load_ext autoreload\n",
    "%autoreload 2\n",
    "\n",
    "import numpy as np\n",
    "import matplotlib.pyplot as plt\n",
    "from matplotlib import rcParams\n",
    "rcParams['figure.figsize'] = (10, 5)   # Change this if figures look ugly. \n",
    "rcParams['font.size'] = 16\n",
    "# IPython Libraries\n",
    "import IPython\n",
    "import ipywidgets\n",
    "from ipywidgets import interact, interactive, interact_manual"
   ]
  },
  {
   "cell_type": "code",
   "execution_count": null,
   "metadata": {},
   "outputs": [],
   "source": [
    "def plot_data(X, Y, fig=None, options=dict()):\n",
    "    # fig_data = plt.figure()\n",
    "    if fig is None:\n",
    "        fig = plt.subplot(111)\n",
    "    fig.plot(X, Y, options.get('marker', 'b*'), \n",
    "        label=options.get('label', 'Raw data'),\n",
    "        linewidth=options.get('linewidth', 2),\n",
    "        fillstyle=options.get('fillstyle', 'full'),\n",
    "        ms=options.get('size', 8))\n",
    "    process_plot(fig, options)\n",
    "    \n",
    "def plot_fit(X, w, fig=None, options=dict()):\n",
    "    if fig is None:\n",
    "        fig = plt.subplot(111)\n",
    "\n",
    "    x_min = np.min(X)\n",
    "    x_max = np.max(X)\n",
    "    dim = w.size - 1\n",
    "    x_plot = np.reshape(np.linspace(x_min, x_max, 100), [-1, 1])\n",
    "    x1_plot = np.ones_like(x_plot)\n",
    "    for d in range(dim):\n",
    "        x1_plot = np.concatenate((np.power(x_plot, 1 + d), x1_plot), axis=1)\n",
    "\n",
    "    y_plot = np.dot(x1_plot, w)\n",
    "    fig.plot(x_plot, y_plot, 'r-', label=options.get('label', 'Regression fit'))\n",
    "    process_plot(fig, options)\n",
    "    \n",
    "def process_plot(fig, options=dict()):\n",
    "    if 'x_label' in options.keys():\n",
    "        fig.set_xlabel(options['x_label'])\n",
    "    if 'y_label' in options.keys():\n",
    "        fig.set_ylabel(options['y_label'])\n",
    "    if 'x_lim' in options.keys():\n",
    "        fig.set_ylim(options['x_lim'])\n",
    "    if 'y_lim' in options.keys():\n",
    "        fig.set_ylim(options['y_lim'])\n",
    "    if 'title' in options.keys():\n",
    "        fig.set_title(options['title'])\n",
    "    if 'legend' in options.keys():\n",
    "        if options['legend']:\n",
    "            fig.legend(loc=options.get('legend_loc', 'best'))"
   ]
  },
  {
   "cell_type": "markdown",
   "metadata": {},
   "source": [
    "## Generate the dataset\n",
    "\n",
    "\n",
    "We generate our dataset according to the function model: $$x \\sim \\mathcal{N}(0, 1), \\qquad y = \\sin(2\\pi x).$$"
   ]
  },
  {
   "cell_type": "code",
   "execution_count": null,
   "metadata": {},
   "outputs": [],
   "source": [
    "rcParams['figure.figsize'] = (10, 5)   # Change this if figures look ugly. \n",
    "rcParams['font.size'] = 16\n",
    "\n",
    "num_points = 10 # Number of training points.\n",
    "noise = 0.5  # Noise Level (needed for data generation).\n",
    "\n",
    "def generate_data(num_points, noise_level):\n",
    "    # Function used for generating the true dataset\n",
    "    x = np.linspace(0, 1, num_points).reshape(-1, 1)\n",
    "    y = np.sin(2 * np.pi * x) + np.random.normal(scale=noise_level, size=(x.shape[0],1))\n",
    "    return x, y\n",
    "\n",
    "X, y = generate_data(num_points, noise)\n",
    "\n",
    "# Plot Data\n",
    "fig = plt.subplot(111);\n",
    "plot_opts = {'x_label': '$x$', 'y_label': '$y$', 'title': 'Generated Data', 'y_lim': [np.min(y)-0.5, np.max(y)+0.5]}\n",
    "plot_data(X, y, fig=fig, options=plot_opts)"
   ]
  },
  {
   "cell_type": "markdown",
   "metadata": {},
   "source": [
    "## Generate polynomial feature matrix"
   ]
  },
  {
   "cell_type": "code",
   "execution_count": null,
   "metadata": {},
   "outputs": [],
   "source": [
    "def generate_polynomial(x, degree):\n",
    "    X = np.ones((x.shape[0], 1))\n",
    "    for index in range(degree):\n",
    "        X = np.concatenate([x**(index + 1), X], axis=1)\n",
    "    return X\n",
    "\n",
    "degree = 15\n",
    "X_poly = generate_polynomial(X, degree=degree)"
   ]
  },
  {
   "cell_type": "markdown",
   "metadata": {},
   "source": [
    "## Compute Closed Form Solution"
   ]
  },
  {
   "cell_type": "code",
   "execution_count": null,
   "metadata": {},
   "outputs": [],
   "source": [
    "reg = 1e-3 # regularization lambda\n",
    "dim = X_poly.shape[-1]\n",
    "w_hat = np.dot(np.linalg.pinv(np.dot(X_poly.T, X_poly) + reg * np.eye(dim)), np.dot(X_poly.T, y))"
   ]
  },
  {
   "cell_type": "code",
   "execution_count": null,
   "metadata": {},
   "outputs": [],
   "source": [
    "fig = plt.subplot(111)\n",
    "plot_opts = {'x_label': '$x$', 'y_label': '$y$', 'title': 'Closed Form Solution', 'legend': False,\n",
    "             'y_lim': [np.min(y)-1, np.max(y)+1]}\n",
    "\n",
    "plot_data(X, y, fig=fig, options=plot_opts)\n",
    "plot_fit(X, w_hat, fig=fig, options=plot_opts)"
   ]
  },
  {
   "cell_type": "code",
   "execution_count": null,
   "metadata": {},
   "outputs": [],
   "source": []
  }
 ],
 "metadata": {
  "kernelspec": {
   "display_name": "Python 3",
   "language": "python",
   "name": "python3"
  },
  "language_info": {
   "codemirror_mode": {
    "name": "ipython",
    "version": 3
   },
   "file_extension": ".py",
   "mimetype": "text/x-python",
   "name": "python",
   "nbconvert_exporter": "python",
   "pygments_lexer": "ipython3",
   "version": "3.7.9"
  }
 },
 "nbformat": 4,
 "nbformat_minor": 4
}
