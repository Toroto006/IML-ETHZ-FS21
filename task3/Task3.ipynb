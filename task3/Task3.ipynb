{
  "nbformat": 4,
  "nbformat_minor": 0,
  "metadata": {
    "colab": {
      "name": "Task3.ipynb",
      "provenance": [],
      "toc_visible": true
    },
    "kernelspec": {
      "name": "python3",
      "display_name": "Python 3"
    }
  },
  "cells": [
    {
      "cell_type": "markdown",
      "metadata": {
        "id": "XwCJDlDblbfn"
      },
      "source": [
        "### Trying to solve Task 3 now!"
      ]
    },
    {
      "cell_type": "markdown",
      "metadata": {
        "id": "Z6lhwcGEQjLl"
      },
      "source": [
        "Prepare for Euler, i.e. logging stdout and stderr to file"
      ]
    },
    {
      "cell_type": "code",
      "metadata": {
        "id": "_fd-6fxxQlZE"
      },
      "source": [
        "import sys\n",
        "from datetime import datetime\n",
        "\n",
        "class Tee(object):\n",
        "    def __init__(self, *files):\n",
        "        self.files = files\n",
        "    def write(self, obj):\n",
        "        for f in self.files:\n",
        "            f.write(obj)\n",
        "            f.flush() # If you want the output to be visible immediately\n",
        "    def flush(self) :\n",
        "        for f in self.files:\n",
        "            f.flush()"
      ],
      "execution_count": null,
      "outputs": []
    },
    {
      "cell_type": "code",
      "metadata": {
        "colab": {
          "base_uri": "https://localhost:8080/"
        },
        "id": "BzTzdbEwQr1B",
        "outputId": "bb2a4a39-55b8-4150-f963-9ab67ba1c94e"
      },
      "source": [
        "logfile = open('logAllFD.log', 'a')\n",
        "\n",
        "original_stderr = sys.stderr\n",
        "original_stdout = sys.stdout\n",
        "\n",
        "sys.stdout = Tee(sys.stdout, logfile)\n",
        "sys.stderr = sys.stdout\n",
        "\n",
        "print(f\"Starting new run at {datetime.now()}\")"
      ],
      "execution_count": null,
      "outputs": [
        {
          "output_type": "stream",
          "text": [
            "Starting new run at 2021-05-12 18:02:33.770662\n"
          ],
          "name": "stdout"
        }
      ]
    },
    {
      "cell_type": "code",
      "metadata": {
        "colab": {
          "base_uri": "https://localhost:8080/"
        },
        "id": "DDmyBvhoUAvS",
        "outputId": "42f43ade-8ce6-45f4-c442-0fd20ed2c21a"
      },
      "source": [
        "!pip uninstall scikit-learn yellowbrick imbalanced-learn fancyimpute -y"
      ],
      "execution_count": null,
      "outputs": [
        {
          "output_type": "stream",
          "text": [
            "Uninstalling scikit-learn-0.21.3:\n",
            "  Successfully uninstalled scikit-learn-0.21.3\n",
            "\u001b[33mWARNING: Skipping yellowbrick as it is not installed.\u001b[0m\n",
            "\u001b[33mWARNING: Skipping imbalanced-learn as it is not installed.\u001b[0m\n",
            "\u001b[33mWARNING: Skipping fancyimpute as it is not installed.\u001b[0m\n"
          ],
          "name": "stdout"
        }
      ]
    },
    {
      "cell_type": "code",
      "metadata": {
        "colab": {
          "base_uri": "https://localhost:8080/"
        },
        "id": "tA6jANBlTrKL",
        "outputId": "81f3ec5f-f5aa-4c16-8b13-c8600eb0bda5"
      },
      "source": [
        "!pip install scikit-learn==0.21.3"
      ],
      "execution_count": null,
      "outputs": [
        {
          "output_type": "stream",
          "text": [
            "Collecting scikit-learn==0.21.3\n",
            "  Using cached https://files.pythonhosted.org/packages/9f/c5/e5267eb84994e9a92a2c6a6ee768514f255d036f3c8378acfa694e9f2c99/scikit_learn-0.21.3-cp37-cp37m-manylinux1_x86_64.whl\n",
            "Requirement already satisfied: joblib>=0.11 in /usr/local/lib/python3.7/dist-packages (from scikit-learn==0.21.3) (1.0.1)\n",
            "Requirement already satisfied: scipy>=0.17.0 in /usr/local/lib/python3.7/dist-packages (from scikit-learn==0.21.3) (1.4.1)\n",
            "Requirement already satisfied: numpy>=1.11.0 in /usr/local/lib/python3.7/dist-packages (from scikit-learn==0.21.3) (1.19.5)\n",
            "Installing collected packages: scikit-learn\n",
            "Successfully installed scikit-learn-0.21.3\n"
          ],
          "name": "stdout"
        }
      ]
    },
    {
      "cell_type": "code",
      "metadata": {
        "id": "oehqk2wZPnlF"
      },
      "source": [
        "import pandas as pd\n",
        "import math\n",
        "import operator\n",
        "from sklearn.model_selection import train_test_split\n",
        "from sklearn.svm import SVC\n",
        "from sklearn.metrics import f1_score\n",
        "from sklearn.model_selection import GridSearchCV\n",
        "from sklearn.preprocessing import OneHotEncoder\n",
        "from itertools import product\n",
        "import numpy as np\n",
        "from sklearn.neural_network import MLPClassifier\n",
        "\n",
        "# Not sure if it would work on euler\n",
        "#trainUrl = 'https://raw.githubusercontent.com/Toroto006/iml2021/main/task3/train.csv?token=AH44KNUX4PZX2ZQVSNK7UFLATNZ64'\n",
        "#testUrl = 'https://raw.githubusercontent.com/Toroto006/iml2021/main/task3/test.csv?token=AH44KNVTLV33VIFDUBUKCTTATNZ6W'\n",
        "\n",
        "trainUrl = 'train.csv'\n",
        "testUrl = 'test.csv'"
      ],
      "execution_count": null,
      "outputs": []
    },
    {
      "cell_type": "code",
      "metadata": {
        "id": "yeDrTMSzNizS",
        "colab": {
          "base_uri": "https://localhost:8080/"
        },
        "outputId": "a1ddc8f3-2916-4133-cf5f-22ce54999a26"
      },
      "source": [
        "trainPD = pd.read_csv(trainUrl)\n",
        "print(trainPD.head(3))"
      ],
      "execution_count": null,
      "outputs": [
        {
          "output_type": "stream",
          "text": [
            "  Sequence  Active\n",
            "0     DKWL       0\n",
            "1     FCHN       0\n",
            "2     KDQP       0\n"
          ],
          "name": "stdout"
        }
      ]
    },
    {
      "cell_type": "code",
      "metadata": {
        "id": "IKnAPAXjQcqi",
        "colab": {
          "base_uri": "https://localhost:8080/"
        },
        "outputId": "142b969b-f7dc-42c3-ac03-d7dc58f92d2e"
      },
      "source": [
        "testPD = pd.read_csv(testUrl)\n",
        "print(testPD.head(3))"
      ],
      "execution_count": null,
      "outputs": [
        {
          "output_type": "stream",
          "text": [
            "  Sequence\n",
            "0     HWFK\n",
            "1     MWPW\n",
            "2     ALDV\n"
          ],
          "name": "stdout"
        }
      ]
    },
    {
      "cell_type": "markdown",
      "metadata": {
        "id": "lcZfeKc5Nnbe"
      },
      "source": [
        "Let's first take a more thorough look at the data."
      ]
    },
    {
      "cell_type": "code",
      "metadata": {
        "colab": {
          "base_uri": "https://localhost:8080/"
        },
        "id": "2nXsql9cdjsY",
        "outputId": "9b08f43a-4402-417f-cb78-8296914754cc"
      },
      "source": [
        "aminoAcids = {\n",
        "    \"R\" : 1,\n",
        "    \"H\" : 2,\n",
        "    \"K\" : 3,\n",
        "    \"D\" : 4,\n",
        "    \"E\" : 5,\n",
        "    \"S\" : 6,\n",
        "    \"T\" : 7,\n",
        "    \"N\" : 8,\n",
        "    \"Q\" : 9,\n",
        "    \"C\" : 10,\n",
        "    \"U\" : 11,\n",
        "    \"G\" : 12,\n",
        "    \"P\" : 13,\n",
        "    \"A\" : 14,\n",
        "    \"I\" : 15,\n",
        "    \"L\" : 16,\n",
        "    \"M\" : 17,\n",
        "    \"F\" : 18,\n",
        "    \"W\" : 19,\n",
        "    \"Y\" : 20,\n",
        "    \"V\" : 21,\n",
        "}\n",
        "\n",
        "def really_safe_normalise_in_place(d):\n",
        "    factor=1.0/math.fsum(d.values())\n",
        "    for k in d:\n",
        "        d[k] = d[k]*factor\n",
        "    key_for_max = max(d.items(), key=operator.itemgetter(1))[0]\n",
        "    diff = 1.0 - math.fsum(d.values())\n",
        "    #print \"discrepancy = \" + str(diff)\n",
        "    d[key_for_max] += diff\n",
        "    return d\n",
        "\n",
        "#aminoAcids = really_safe_normalise_in_place(aminoAcids)\n",
        "aminoAcids[\"D\"]"
      ],
      "execution_count": null,
      "outputs": [
        {
          "output_type": "execute_result",
          "data": {
            "text/plain": [
              "4"
            ]
          },
          "metadata": {
            "tags": []
          },
          "execution_count": 7
        }
      ]
    },
    {
      "cell_type": "code",
      "metadata": {
        "id": "VzvbAkXWvNFf"
      },
      "source": [
        "permutations= []\n",
        "for elm1 in aminoAcids:\n",
        "  for elm2 in aminoAcids:\n",
        "    for elm3 in aminoAcids: \n",
        "      for elm4 in aminoAcids:\n",
        "        permutations.append(elm1+elm2+elm3+elm4)\n",
        "\n",
        "#print(permutations)\n",
        "permutDF = pd.DataFrame(permutations, columns = ['Permutations'])"
      ],
      "execution_count": null,
      "outputs": []
    },
    {
      "cell_type": "code",
      "metadata": {
        "id": "dIv-q9shOr9f"
      },
      "source": [
        "splitNames = [\"fir\", \"sec\", \"thr\", \"for\"]\n",
        "\n",
        "def splitPlaces(dfs, enc=None):\n",
        "  def lmdFct(df):\n",
        "    return pd.Series(list(df[\"Sequence\"]))\n",
        "  #splits = dfs.apply(lambda df: [aminoAcids.get(item,item) for item in list(df[\"Sequence\"])], axis=1, result_type='expand').rename(columns={0:\"fir\", 1:\"sec\", 2:\"thr\", 3:\"for\"})\n",
        "  splits = dfs.apply(lmdFct, axis=1, result_type='expand').rename(columns={0:\"fir\", 1:\"sec\", 2:\"thr\", 3:\"for\"})\n",
        "  #print(splits.shape)\n",
        "  if enc is None:\n",
        "    def lmdFct2(df):\n",
        "      return pd.Series(list(df[\"Permutations\"]))\n",
        "    enc = OneHotEncoder()\n",
        "    temp= permutDF.apply(lmdFct2, axis=1, result_type='expand').rename(columns={0:\"fir\", 1:\"sec\", 2:\"thr\", 3:\"for\"})\n",
        "    enc.fit(temp)\n",
        "  onehotlabels = enc.transform(splits).toarray()\n",
        "  #print(onehotlabels.shape)\n",
        "  new_dfs = dfs.copy()\n",
        "  #print(enc.get_feature_names())\n",
        "  for ind in list(enc.get_feature_names()):\n",
        "    new_dfs[ind] = 0\n",
        "  new_dfs[enc.get_feature_names()] = onehotlabels\n",
        "  return new_dfs, enc\n",
        "\n",
        "splitPD, enc = splitPlaces(trainPD.head(15))\n",
        "\n",
        "#print(splitPD.head(5))"
      ],
      "execution_count": null,
      "outputs": []
    },
    {
      "cell_type": "markdown",
      "metadata": {
        "id": "fttbyqp-gceN"
      },
      "source": [
        "To try the idea do train and test split."
      ]
    },
    {
      "cell_type": "code",
      "metadata": {
        "id": "W0Ixu1v_akIL"
      },
      "source": [
        "random_state = 42\n",
        "# split labels\n",
        "def createTrainSplit():\n",
        "  Xs = splitPD.drop(\"Sequence\", axis='columns')\n",
        "  train_split, test_split = train_test_split(Xs, test_size=0.2, random_state=random_state)\n",
        "  train_y = train_split[\"Active\"]\n",
        "  train_X = train_split.drop(\"Active\", axis='columns')\n",
        "  test_y = test_split[\"Active\"]\n",
        "  test_X = test_split.drop(\"Active\", axis='columns')\n",
        "  print(train_X.head(5))\n",
        "  print(train_y.head(5))"
      ],
      "execution_count": null,
      "outputs": []
    },
    {
      "cell_type": "markdown",
      "metadata": {
        "id": "iAH_fsn6giG2"
      },
      "source": [
        "Lets try a RidgeClassifier:"
      ]
    },
    {
      "cell_type": "code",
      "metadata": {
        "id": "JvS0Ata1glUq"
      },
      "source": [
        "def normalSVC():\n",
        "  svcInit = SVC(class_weight='balanced', random_state=random_state)\n",
        "  svc = svcInit.fit(train_X, train_y)\n",
        "  train_predicted = svc.predict(train_X)\n",
        "  test_predicted = svc.predict(test_X)\n",
        "  print(f\"train score: {f1_score(train_y, train_predicted)}\") # 0.855\n",
        "  print(f\"test score: {f1_score(test_y, test_predicted)}\") # 0.805\n",
        "\n",
        "# normalSVC()"
      ],
      "execution_count": null,
      "outputs": []
    },
    {
      "cell_type": "markdown",
      "metadata": {
        "id": "VPXBdWbCuRH3"
      },
      "source": [
        "Looks quite good, lets do a gridsearch."
      ]
    },
    {
      "cell_type": "code",
      "metadata": {
        "id": "w66ScJH7UO8j"
      },
      "source": [
        "def findBest():\n",
        "  parameters = {'kernel':('linear', 'poly', 'rbf'), 'C':[1, 10]}\n",
        "  clf = GridSearchCV(svcInit, parameters)\n",
        "  clf = clf.fit(train_X, train_y)\n",
        "  train_predicted = clf.predict(train_X)\n",
        "  test_predicted = clf.predict(test_X)\n",
        "  print(f\"train score: {f1_score(train_y, train_predicted)}\") # 0.99229\n",
        "  print(f\"test score: {f1_score(test_y, test_predicted)}\") # 0.88872\n",
        "  print(clf.get_params()['estimator'])\n",
        "  # SVC(C=1.0, break_ties=False, cache_size=200, class_weight='balanced', coef0=0.0,\n",
        "  # decision_function_shape='ovr', degree=3, gamma='scale', kernel='rbf',\n",
        "  # max_iter=-1, probability=False, random_state=42, shrinking=True, tol=0.001,\n",
        "  # verbose=False)"
      ],
      "execution_count": null,
      "outputs": []
    },
    {
      "cell_type": "markdown",
      "metadata": {
        "id": "XnPqb273SibC"
      },
      "source": [
        "Wow, looks good!"
      ]
    },
    {
      "cell_type": "code",
      "metadata": {
        "id": "RotowDbqW_Vo"
      },
      "source": [
        "enc = None\n",
        "def loadOneHotEncodingJoblib():\n",
        "  from joblib import load\n",
        "  enc = load('encoder.joblib')\n",
        "#loadOneHotEncodingJoblib()\n",
        "\n",
        "def loadOneHotEncodingPickle():\n",
        "  import pickle\n",
        "  with open('encoder.pickle', 'rb') as f:\n",
        "    enc = pickle.load(f)\n",
        "#loadOneHotEncodingPickle()"
      ],
      "execution_count": null,
      "outputs": []
    },
    {
      "cell_type": "code",
      "metadata": {
        "id": "lozqFgL4U6Hq"
      },
      "source": [
        "X, _ = splitPlaces(trainPD, enc)\n",
        "y = X[\"Active\"]\n",
        "X = X.drop([\"Sequence\", \"Active\"], axis='columns')"
      ],
      "execution_count": null,
      "outputs": []
    },
    {
      "cell_type": "code",
      "metadata": {
        "id": "w7vzTISOW2Sr"
      },
      "source": [
        "def saveOneHotEncoding():\n",
        "  from joblib import dump\n",
        "  dump(enc, 'encoder.joblib')\n",
        "#saveOneHotEncoding()\n",
        "\n",
        "def dumpOneHotEncodingPickle():\n",
        "  import pickle\n",
        "  with open('encoder.pickle', 'wb') as f:\n",
        "      pickle.dump(enc, f)\n",
        "dumpOneHotEncodingPickle()"
      ],
      "execution_count": null,
      "outputs": []
    },
    {
      "cell_type": "code",
      "metadata": {
        "id": "O-yttGg5Sntc"
      },
      "source": [
        "testedClf = SVC(C=1.0, cache_size=2000, class_weight='balanced', coef0=0.0,\n",
        "     decision_function_shape='ovr', degree=3, gamma='scale', kernel='rbf',\n",
        "     max_iter=-1, probability=False, random_state=42, shrinking=True, tol=0.001,\n",
        "     verbose=False)\n",
        "#testedClf = testedClf.fit(X, y)"
      ],
      "execution_count": null,
      "outputs": []
    },
    {
      "cell_type": "markdown",
      "metadata": {
        "id": "-Kd-qYC-TCxu"
      },
      "source": [
        "Prepare submission data:"
      ]
    },
    {
      "cell_type": "code",
      "metadata": {
        "id": "qsKJpgyqTErX"
      },
      "source": [
        "test_Xs, _ = splitPlaces(testPD, enc)\n",
        "testXs = test_Xs.drop(\"Sequence\", axis='columns')"
      ],
      "execution_count": null,
      "outputs": []
    },
    {
      "cell_type": "code",
      "metadata": {
        "id": "z-wvxWWGTacF"
      },
      "source": [
        "def doSVCpredict():\n",
        "  submission_predicted = testedClf.predict(testXs)\n",
        "  submission_predicted = pd.DataFrame(submission_predicted, columns=[\"Active\"])\n",
        "  return submission_predicted\n",
        "\n",
        "#submission_predicted = doSVCpredict()"
      ],
      "execution_count": null,
      "outputs": []
    },
    {
      "cell_type": "markdown",
      "metadata": {
        "id": "PUCiIOM-MxXo"
      },
      "source": [
        "Lets try an MLPClassifier again"
      ]
    },
    {
      "cell_type": "code",
      "metadata": {
        "id": "sOaB9Yp3Mx3p",
        "colab": {
          "base_uri": "https://localhost:8080/"
        },
        "outputId": "52397abd-3a49-4bf2-d192-bce0a165e461"
      },
      "source": [
        "parameters={\n",
        "'learning_rate': [\"constant\", \"invscaling\", \"adaptive\"],\n",
        "'hidden_layer_sizes': [x for x in product(range(55,100,5), range(1,10,2))],\n",
        "'alpha': 10.0 ** -np.arange(1, 7),\n",
        "'activation': [\"logistic\", \"relu\", \"tanh\"]\n",
        "}\n",
        "\n",
        "def eulerGrid(parameters):\n",
        "  print(\"Starting to fit over grid search\")\n",
        "\n",
        "  clfMLPCgrid = GridSearchCV(estimator=MLPClassifier(solver='lbfgs', random_state=random_state),param_grid=parameters,n_jobs=-1,verbose=2,cv=10)\n",
        "  print(clfMLPCgrid.fit(X, y))\n",
        "  print(clfMLPCgrid.best_params_)\n",
        "  submission_predicted = clfMLPCgrid.predict(testXs)\n",
        "  submission_predicted = pd.DataFrame(submission_predicted, columns=[\"Active\"])\n",
        "  return submission_predicted\n",
        "\n",
        "submission_predicted = eulerGrid(parameters)"
      ],
      "execution_count": null,
      "outputs": [
        {
          "output_type": "stream",
          "text": [
            "Starting to fit over grid search\n",
            "Fitting 10 folds for each of 2430 candidates, totalling 24300 fits\n"
          ],
          "name": "stdout"
        },
        {
          "output_type": "stream",
          "text": [
            "[Parallel(n_jobs=-1)]: Using backend LokyBackend with 2 concurrent workers.\n"
          ],
          "name": "stderr"
        }
      ]
    },
    {
      "cell_type": "code",
      "metadata": {
        "id": "xqp1UMkZM0_k"
      },
      "source": [
        "def testPredict():\n",
        "  train_predicted = clfMLPCgrid.predict(train_X)\n",
        "  test_predicted = clfMLPCgrid.predict(test_X)\n",
        "  print(f\"train score: {f1_score(train_y, train_predicted)}\")\n",
        "  print(f\"test score: {f1_score(test_y, test_predicted)}\")"
      ],
      "execution_count": null,
      "outputs": []
    },
    {
      "cell_type": "code",
      "metadata": {
        "id": "gCpg6ZjdQzkc"
      },
      "source": [
        "sys.stdout = original_stdout\n",
        "sys.stderr = original_stderr\n",
        "logfile.close()"
      ],
      "execution_count": null,
      "outputs": []
    },
    {
      "cell_type": "code",
      "metadata": {
        "id": "gbEvR0Kj0mGA"
      },
      "source": [
        "def defaultMLPC():\n",
        "  clf = MLPClassifier(random_state=1, max_iter=300).fit(X, y)\n",
        "  submission_predicted = clf.predict(testXs)\n",
        "  submission_predicted = pd.DataFrame(submission_predicted, columns=[\"Active\"])\n",
        "  return submission_predicted\n",
        "\n",
        "#submission_predicted = defaultMLPC()"
      ],
      "execution_count": null,
      "outputs": []
    },
    {
      "cell_type": "code",
      "metadata": {
        "id": "vvyuMd0XbWu6"
      },
      "source": [
        "submission_predicted.to_csv(\"testOutEuler.csv\", index=False, header=False)"
      ],
      "execution_count": null,
      "outputs": []
    }
  ]
}